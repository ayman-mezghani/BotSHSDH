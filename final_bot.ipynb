{
 "cells": [
  {
   "cell_type": "code",
   "execution_count": 1,
   "metadata": {},
   "outputs": [],
   "source": [
    "import pandas as pd\n",
    "\n",
    "from IPython.display import display\n",
    "from urllib.parse import quote\n",
    "\n",
    "doc2start = {\"bpt6k63243601\": 123, \"bpt6k62931221\": 151, \"bpt6k6286466w\": 189, \"bpt6k6393838j\": 219, \"bpt6k6331310g\": 216, \"bpt6k6292987t\": 353, \"bpt6k62906378\": 288, \"bpt6k6391515w\": 319, \"bpt6k6315927h\": 349, \"bpt6k6319106t\": 324, \"bpt6k6315985z\": 82, \"bpt6k63959929\": 82, \"bpt6k63197984\": 56, \"bpt6k6389871r\": 77, \"bpt6k6319811j\": 79, \"bpt6k6282019m\": 72, \"bpt6k6314752k\": 190, \"bpt6k6305463c\": 113, \"bpt6k6318531z\": 108, \"bpt6k6324389h\": 72, \"bpt6k63243920\": 80, \"bpt6k6309075f\": 96, \"bpt6k6333200c\": 132, \"bpt6k63243905\": 134, \"bpt6k6333170p\": 137, \"bpt6k96727875\": 135, \"bpt6k9764746t\": 99, \"bpt6k97645375\": 123, \"bpt6k9672117f\": 125, \"bpt6k9763554c\": 123, \"bpt6k9763553z\": 105, \"bpt6k9677392n\": 110, \"bpt6k9692809v\": 113, \"bpt6k9762929c\": 129, \"bpt6k9672776c\": 119, \"bpt6k9764647w\": 121, \"bpt6k9669143t\": 145, \"bpt6k9677737t\": 139, \"bpt6k9668037f\": 167, \"bpt6k96839542\": 171, \"bpt6k96762564\": 185, \"bpt6k9685861g\": 189, \"bpt6k9763471j\": 153, \"bpt6k9762899p\": 157, \"bpt6k97630871\": 11, \"bpt6k9684454n\": 235, \"bpt6k9732740w\": 239, \"bpt6k9684013b\": 189, \"bpt6k9692626p\": 305, \"bpt6k9685098r\": 281, \"bpt6k9764402m\": 329, \"bpt6k97631451\": 322, \"bpt6k9776121t\": 49, \"bpt6k9775724t\": 33, \"bpt6k97774838\": 327, \"bpt6k9780089g\": 339}\n",
    "\n",
    "def entry2url(row):\n",
    "    \"\"\"\n",
    "    Takes a row of an Annuaire csv and\n",
    "    transforms it to the corresponding Gallica url\n",
    "    \"\"\"\n",
    "    url = \"https://gallica.bnf.fr/ark:/12148/\"\n",
    "    \n",
    "    directory = row['directory']\n",
    "    page = row['page'] - doc2start[directory]\n",
    "    url += f\"{row['directory']}/f{row['page']-doc2start[row['directory']]}\"\n",
    "    \n",
    "    r_strings = []\n",
    "    if 'name' in row and pd.notna(row['name']):\n",
    "        r_strings.append(quote(row['name'].replace('.', ' ')))\n",
    "    if 'job' in row and pd.notna(row['job']):\n",
    "        r_strings.append(quote(row['job'].replace('.', ' ')))\n",
    "    if 'street' in row and pd.notna(row['street']):\n",
    "        r_strings.append(quote(row['street'].replace('.', ' ')))\n",
    "    if 'number' in row and pd.notna(row['number']):\n",
    "        r_strings.append(quote(row['number'].replace('.', ' ')))\n",
    "    \n",
    "    if len(r_strings) > 0:\n",
    "        url += f\".item.r={'%20'.join(r_strings)}.zoom\"\n",
    "    \n",
    "    return url\n",
    "\n",
    "def add_clickable_url(bottin_dataframe):\n",
    "    bottin_dataframe = bottin_dataframe.copy()\n",
    "    bottin_dataframe['url'] = bottin_dataframe.apply(entry2url, axis=1)\n",
    "    #def make_clickable(val):\n",
    "    #    return '<a href=\"{}\">gallica url</a>'.format(val,val)\n",
    "\n",
    "    #return bottin_dataframe.style.format(make_clickable, subset=['url'])\n",
    "    return bottin_dataframe"
   ]
  },
  {
   "cell_type": "code",
   "execution_count": 2,
   "metadata": {},
   "outputs": [],
   "source": [
    "data_bottin = pd.read_csv('bottin_data_groupe_6.csv')"
   ]
  },
  {
   "cell_type": "code",
   "execution_count": 3,
   "metadata": {},
   "outputs": [],
   "source": [
    "#nettoyer le numéro de rue: garder seulement le premier nombre et éventuellement 'bis'\n",
    "data_bottin['number_clean'] = data_bottin['number'].str.extract('(^\\d+(?: ?bis)?).*')"
   ]
  },
  {
   "cell_type": "code",
   "execution_count": 4,
   "metadata": {},
   "outputs": [],
   "source": [
    "data_bottin = add_clickable_url(data_bottin.fillna(''))"
   ]
  },
  {
   "cell_type": "code",
   "execution_count": 5,
   "metadata": {},
   "outputs": [],
   "source": [
    "#Generate text for wikipast pages\n",
    "df = pd.DataFrame()"
   ]
  },
  {
   "cell_type": "code",
   "execution_count": 6,
   "metadata": {},
   "outputs": [],
   "source": [
    "df['criteria'] = data_bottin['name'].astype(str)+\" \"\\\n",
    "+data_bottin['job'].astype(str)+\" \"\\\n",
    "+data_bottin['number_clean'].astype(str)+\" \"\\\n",
    "+data_bottin['street_clean'].astype(str)"
   ]
  },
  {
   "cell_type": "code",
   "execution_count": 7,
   "metadata": {},
   "outputs": [],
   "source": [
    "df['page_text'] = \"[[\"+data_bottin['year'].astype(str)+\"]]\"\\\n",
    "+\" / [[Paris]]. \"\\\n",
    "+\"[[\"+data_bottin['name'].astype(str)+\"]]\"\\\n",
    "+\", \"+ data_bottin['job'].astype(str)\\\n",
    "+\", exerce son activité au \"\\\n",
    "+\"[[\"+data_bottin['street_clean'].astype(str)+\"]]\"\\\n",
    "+\" \"+data_bottin['number_clean'].astype(str)+\".\"\\\n",
    "+\" [\"+data_bottin['url'].astype(str)+\"]\""
   ]
  },
  {
   "cell_type": "code",
   "execution_count": 8,
   "metadata": {},
   "outputs": [
    {
     "data": {
      "text/html": [
       "<div>\n",
       "<style scoped>\n",
       "    .dataframe tbody tr th:only-of-type {\n",
       "        vertical-align: middle;\n",
       "    }\n",
       "\n",
       "    .dataframe tbody tr th {\n",
       "        vertical-align: top;\n",
       "    }\n",
       "\n",
       "    .dataframe thead th {\n",
       "        text-align: right;\n",
       "    }\n",
       "</style>\n",
       "<table border=\"1\" class=\"dataframe\">\n",
       "  <thead>\n",
       "    <tr style=\"text-align: right;\">\n",
       "      <th></th>\n",
       "      <th>criteria</th>\n",
       "      <th>page_text</th>\n",
       "    </tr>\n",
       "  </thead>\n",
       "  <tbody>\n",
       "    <tr>\n",
       "      <th>0</th>\n",
       "      <td>Aaron march. de chevaux 39 rue Bouret</td>\n",
       "      <td>[[1896]] / [[Paris]]. [[Aaron]], march. de chevaux, exerce son activité au [[rue Bouret]] 39. [https://gallica.bnf.fr/ark:/12148/bpt6k9684013b/f189.item.r=Aaron%20march%20%20de%20chevaux%20r%20%20Bouret%2039.zoom]</td>\n",
       "    </tr>\n",
       "  </tbody>\n",
       "</table>\n",
       "</div>"
      ],
      "text/plain": [
       "                                criteria  \\\n",
       "0  Aaron march. de chevaux 39 rue Bouret   \n",
       "\n",
       "                                                                                                                                                                                                               page_text  \n",
       "0  [[1896]] / [[Paris]]. [[Aaron]], march. de chevaux, exerce son activité au [[rue Bouret]] 39. [https://gallica.bnf.fr/ark:/12148/bpt6k9684013b/f189.item.r=Aaron%20march%20%20de%20chevaux%20r%20%20Bouret%2039.zoom]  "
      ]
     },
     "execution_count": 8,
     "metadata": {},
     "output_type": "execute_result"
    }
   ],
   "source": [
    "pd.set_option('display.max_colwidth', None)\n",
    "df.head(1)"
   ]
  },
  {
   "cell_type": "code",
   "execution_count": null,
   "metadata": {},
   "outputs": [],
   "source": []
  }
 ],
 "metadata": {
  "kernelspec": {
   "display_name": "Python 3",
   "language": "python",
   "name": "python3"
  },
  "language_info": {
   "codemirror_mode": {
    "name": "ipython",
    "version": 3
   },
   "file_extension": ".py",
   "mimetype": "text/x-python",
   "name": "python",
   "nbconvert_exporter": "python",
   "pygments_lexer": "ipython3",
   "version": "3.8.2"
  }
 },
 "nbformat": 4,
 "nbformat_minor": 4
}
